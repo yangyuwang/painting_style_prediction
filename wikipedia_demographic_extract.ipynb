{
  "nbformat": 4,
  "nbformat_minor": 0,
  "metadata": {
    "colab": {
      "provenance": [],
      "toc_visible": true,
      "machine_shape": "hm",
      "gpuType": "A100",
      "authorship_tag": "ABX9TyNUfjeKy9G4nf3Cj+PMd9pn",
      "include_colab_link": true
    },
    "kernelspec": {
      "name": "python3",
      "display_name": "Python 3"
    },
    "language_info": {
      "name": "python"
    },
    "accelerator": "GPU"
  },
  "cells": [
    {
      "cell_type": "markdown",
      "metadata": {
        "id": "view-in-github",
        "colab_type": "text"
      },
      "source": [
        "<a href=\"https://colab.research.google.com/github/yangyuwang/painting_style_prediction/blob/main/wikipedia_demographic_extract.ipynb\" target=\"_parent\"><img src=\"https://colab.research.google.com/assets/colab-badge.svg\" alt=\"Open In Colab\"/></a>"
      ]
    },
    {
      "cell_type": "markdown",
      "source": [
        "# Load wikipedia"
      ],
      "metadata": {
        "id": "hsTYqYmZDk9b"
      }
    },
    {
      "cell_type": "code",
      "execution_count": 1,
      "metadata": {
        "colab": {
          "base_uri": "https://localhost:8080/"
        },
        "id": "WEWkdhClDaea",
        "outputId": "871e023f-8f4a-4eff-a9da-55612d68cfa5"
      },
      "outputs": [
        {
          "output_type": "stream",
          "name": "stdout",
          "text": [
            "Drive already mounted at /content/drive/; to attempt to forcibly remount, call drive.mount(\"/content/drive/\", force_remount=True).\n"
          ]
        }
      ],
      "source": [
        "from google.colab import drive\n",
        "drive.mount('/content/drive/')\n"
      ]
    },
    {
      "cell_type": "code",
      "source": [
        "import os\n",
        "import re\n",
        "from tqdm import tqdm\n",
        "\n",
        "artist_wikipedia_text_example = []\n",
        "\n",
        "path = '/content/drive/My Drive/artist_wikipedia_content/'\n",
        "\n",
        "target_name = [re.sub(r\".txt\", \"\", target) for target in os.listdir(path)]\n",
        "\n",
        "for file in tqdm(os.listdir(path)):\n",
        "  with open(path + file, \"r\") as f:\n",
        "    artist_wikipedia_text_example.append(re.sub(\"\\n\", \"\", f.read()))"
      ],
      "metadata": {
        "colab": {
          "base_uri": "https://localhost:8080/"
        },
        "id": "vcFhHZb6DqYn",
        "outputId": "8a1fedeb-e9e0-4b6e-f905-1f2ae319e64a"
      },
      "execution_count": 5,
      "outputs": [
        {
          "output_type": "stream",
          "name": "stderr",
          "text": [
            "100%|██████████| 2752/2752 [00:04<00:00, 569.52it/s]\n"
          ]
        }
      ]
    },
    {
      "cell_type": "markdown",
      "source": [
        "# OPENAI settings"
      ],
      "metadata": {
        "id": "z1aq0bXKF-aC"
      }
    },
    {
      "cell_type": "code",
      "source": [
        "pip install openai==0.28"
      ],
      "metadata": {
        "colab": {
          "base_uri": "https://localhost:8080/"
        },
        "id": "JYKaEcn5G3bN",
        "outputId": "19d484a0-2062-4e79-bbd4-c5d2b1b2bad9"
      },
      "execution_count": 6,
      "outputs": [
        {
          "output_type": "stream",
          "name": "stdout",
          "text": [
            "Requirement already satisfied: openai==0.28 in /usr/local/lib/python3.11/dist-packages (0.28.0)\n",
            "Requirement already satisfied: requests>=2.20 in /usr/local/lib/python3.11/dist-packages (from openai==0.28) (2.32.3)\n",
            "Requirement already satisfied: tqdm in /usr/local/lib/python3.11/dist-packages (from openai==0.28) (4.67.1)\n",
            "Requirement already satisfied: aiohttp in /usr/local/lib/python3.11/dist-packages (from openai==0.28) (3.11.12)\n",
            "Requirement already satisfied: charset-normalizer<4,>=2 in /usr/local/lib/python3.11/dist-packages (from requests>=2.20->openai==0.28) (3.4.1)\n",
            "Requirement already satisfied: idna<4,>=2.5 in /usr/local/lib/python3.11/dist-packages (from requests>=2.20->openai==0.28) (3.10)\n",
            "Requirement already satisfied: urllib3<3,>=1.21.1 in /usr/local/lib/python3.11/dist-packages (from requests>=2.20->openai==0.28) (2.3.0)\n",
            "Requirement already satisfied: certifi>=2017.4.17 in /usr/local/lib/python3.11/dist-packages (from requests>=2.20->openai==0.28) (2025.1.31)\n",
            "Requirement already satisfied: aiohappyeyeballs>=2.3.0 in /usr/local/lib/python3.11/dist-packages (from aiohttp->openai==0.28) (2.4.6)\n",
            "Requirement already satisfied: aiosignal>=1.1.2 in /usr/local/lib/python3.11/dist-packages (from aiohttp->openai==0.28) (1.3.2)\n",
            "Requirement already satisfied: attrs>=17.3.0 in /usr/local/lib/python3.11/dist-packages (from aiohttp->openai==0.28) (25.1.0)\n",
            "Requirement already satisfied: frozenlist>=1.1.1 in /usr/local/lib/python3.11/dist-packages (from aiohttp->openai==0.28) (1.5.0)\n",
            "Requirement already satisfied: multidict<7.0,>=4.5 in /usr/local/lib/python3.11/dist-packages (from aiohttp->openai==0.28) (6.1.0)\n",
            "Requirement already satisfied: propcache>=0.2.0 in /usr/local/lib/python3.11/dist-packages (from aiohttp->openai==0.28) (0.2.1)\n",
            "Requirement already satisfied: yarl<2.0,>=1.17.0 in /usr/local/lib/python3.11/dist-packages (from aiohttp->openai==0.28) (1.18.3)\n"
          ]
        }
      ]
    },
    {
      "cell_type": "code",
      "source": [
        "import getpass\n",
        "OPENAI_API_KEY = getpass.getpass()"
      ],
      "metadata": {
        "colab": {
          "base_uri": "https://localhost:8080/"
        },
        "id": "_ZEoXySpGMWh",
        "outputId": "bd79105a-0c8b-4a62-b784-3902bdc1914a"
      },
      "execution_count": 7,
      "outputs": [
        {
          "name": "stdout",
          "output_type": "stream",
          "text": [
            "··········\n"
          ]
        }
      ]
    },
    {
      "cell_type": "markdown",
      "source": [
        "# Extraction"
      ],
      "metadata": {
        "id": "OUYoIlx2GCq_"
      }
    },
    {
      "cell_type": "code",
      "source": [
        "import openai\n",
        "import json\n",
        "import pandas as pd\n",
        "\n",
        "# Set your OpenAI API key\n",
        "openai.api_key = OPENAI_API_KEY\n",
        "\n",
        "def extract_demographics_few_shot(text):\n",
        "\n",
        "    # Few-shot example using Agostino Carracci's information.\n",
        "    few_shot_example = \"\"\"\n",
        "                        Example:\n",
        "                        Text: \"Agostino Carracci (or Caracci; 16 August 1557 – 22 March 1602) was an Italian painter born in Bologna. Initially, he trained as a goldsmith and then studied painting with Prospero Fontana and Bartolomeo Passarotti. He traveled to Venice to train as an engraver under Cornelis Cort.\"\n",
        "                        Chain-of-thought:\n",
        "                        1. Educational Level: Agostino was taught by established artists (Prospero Fontana and Bartolomeo Passarotti), so his educational level is \"Taught by other artists\".\n",
        "                        2. Immigration Status: He was born in Bologna (Italy-Bologna) and later traveled to Venice (Italy-Venice). This migration is domestic, so \"Domestic Migration\" is 1 and \"International Migration\" is 0.\n",
        "                        3. Gender: The text indicates he is male.\n",
        "                        4. Age: He was born in 1557 and died in 1602, giving him an approximate age of 45 years.\n",
        "                        Final JSON Output:\n",
        "                        {\n",
        "                          \"Educational Level\": \"Taught by other artists\",\n",
        "                          \"Immigration Status\": {\n",
        "                            \"Origin\": \"Italy-Bologna\",\n",
        "                            \"Destination\": \"Italy-Venice\",\n",
        "                            \"Domestic Migration\": 1,\n",
        "                            \"International Migration\": 0\n",
        "                          },\n",
        "                          \"Gender\": \"Male\",\n",
        "                          \"Age\": \"45\"\n",
        "                        }\n",
        "                        ---\n",
        "                        \"\"\"\n",
        "\n",
        "    # Build the full prompt including the few-shot example.\n",
        "    prompt = f\"\"\"\n",
        "              You are an expert text analyst. Below is a few-shot example showing how to extract demographic attributes from a Wikipedia-style text about an artist using a chain-of-thought approach.\n",
        "\n",
        "              {few_shot_example}\n",
        "\n",
        "              Now, analyze the following text and extract the following demographic attributes:\n",
        "              - Educational Level: Choose one from [\"No formal education\", \"Elementary level\", \"Middle school level\", \"High school level\", \"College level\", \"Master level\", \"PhD level\", \"Taught by other artists\"].\n",
        "              - Immigration Status: Provide a dictionary with:\n",
        "                  - \"Origin\" (in \"Country-City\" format),\n",
        "                  - \"Destination\" (in \"Country-City\" format),\n",
        "                  - \"Domestic Migration\" (1 if the migration is within the same country, 0 otherwise),\n",
        "                  - \"International Migration\" (1 if the migration is between different countries, 0 otherwise).\n",
        "              - Gender\n",
        "              - Age: Calculate approximate age if birth and death or other relevant dates are given.\n",
        "\n",
        "              Please follow these instructions:\n",
        "              1. First, provide your chain-of-thought reasoning step-by-step.\n",
        "              2. Then, based on your reasoning, output a final answer in JSON format with the keys \"Educational Level\", \"Immigration Status\", \"Gender\", and \"Age\".\n",
        "              3. Output only a valid JSON object (without any additional text, code fences, or markdown) as the final answer.\n",
        "\n",
        "              Text:\n",
        "              \\\"\\\"\\\"{text}\\\"\\\"\\\"\n",
        "\n",
        "              Answer:\n",
        "              \"\"\"\n",
        "    # Call the GPT-3.5 model\n",
        "    response = openai.ChatCompletion.create(\n",
        "        model=\"gpt-3.5-turbo\",\n",
        "        messages=[\n",
        "            {\"role\": \"system\", \"content\": \"You are a helpful assistant that provides detailed chain-of-thought reasoning.\"},\n",
        "            {\"role\": \"user\", \"content\": prompt}\n",
        "        ],\n",
        "        temperature=0.0\n",
        "    )\n",
        "\n",
        "    # Get the content of the reply\n",
        "    answer = response[\"choices\"][0][\"message\"][\"content\"]\n",
        "\n",
        "    json_match = re.search(r\"```json\\s*(\\{.*\\})\\s*```\", answer, re.DOTALL)\n",
        "\n",
        "    if json_match:\n",
        "        json_str = json_match.group(1)\n",
        "    else:\n",
        "        # Fallback: try to extract from the first occurrence of '{'\n",
        "        json_start = answer.find('{')\n",
        "        json_str = answer[json_start:]\n",
        "\n",
        "    try:\n",
        "        result = json.loads(json_str)\n",
        "        return result, json_str\n",
        "    except json.JSONDecodeError:\n",
        "        print(\"JSON decode error. Full response saved\")\n",
        "        return {}, json_str\n",
        "    else:\n",
        "        print(\"No JSON found in the response. Full response saved\")\n",
        "        return {}, json_str\n"
      ],
      "metadata": {
        "id": "_7dpUgo2GCES"
      },
      "execution_count": 29,
      "outputs": []
    },
    {
      "cell_type": "code",
      "source": [
        "# Example\n",
        "\n",
        "# Wikipedia texts for Agostino Carracci and Agnolo Bronzino\n",
        "text_carracci = \"\"\"\n",
        "Agostino Carracci (or Caracci; Italian pronunciation: [aɡoˈstiːno karˈrattʃi]; 16 August 1557 – 22 March 1602) was an Italian painter, printmaker, tapestry designer, and art teacher. He was, together with his brother, Annibale Carracci, and cousin, Ludovico Carracci, one of the founders of the Accademia degli Incamminati (Academy of the Progressives) in Bologna. Intended to devise alternatives to the Mannerist style favored in the preceding decades, this teaching academy helped propel painters of the School of Bologna to prominence.\n",
        "\n",
        "Agostino Carracci was born in Bologna as the son of a tailor. He was the elder brother of Annibale Carracci and the cousin of Ludovico Carracci. He initially trained as a goldsmith. He later studied painting, first with Prospero Fontana, who had been Lodovico's master, and later with Bartolomeo Passarotti. He traveled to Parma to study the works of Correggio. Accompanied by his brother Annibale, he spent a long time in Venice, where he trained as an engraver under the renowned Cornelis Cort.\n",
        "\"\"\"\n",
        "\n",
        "text_bronzino = \"\"\"\n",
        "Agnolo di Cosimo (Italian: [ˈaɲɲolo di ˈkɔːzimo]; 17 November 1503 – 23 November 1572), usually known as Bronzino or Agnolo Bronzino, was an Italian Mannerist painter from Florence. His sobriquet, Bronzino, may refer to his relatively dark skin or reddish hair.\n",
        "He lived all his life in Florence, and from his late 30s was kept busy as the court painter of Cosimo I de' Medici, Grand Duke of Tuscany. He was mainly a portraitist, but also painted many religious subjects and a few allegorical subjects. He trained with Pontormo, the leading Florentine painter of the first generation of Mannerism, and his style was greatly influenced by him. He was apprenticed at 14 under Pontormo and later studied with Raffaellino del Garbo.\n",
        "\"\"\"\n",
        "\n",
        "# Process each text to extract demographics using the few-shot approach\n",
        "results = {}\n",
        "results[\"Agostino Carracci\"], str_1 = extract_demographics_few_shot(text_carracci)\n",
        "results[\"Agnolo Bronzino\"], str_2 = extract_demographics_few_shot(text_bronzino)\n",
        "\n",
        "# Convert the results into a pandas DataFrame\n",
        "rows = []\n",
        "for name, data in results.items():\n",
        "    data[\"Name\"] = name\n",
        "    rows.append(data)\n",
        "df = pd.DataFrame(rows)\n",
        "\n",
        "# Display the DataFrame\n",
        "print(df)"
      ],
      "metadata": {
        "colab": {
          "base_uri": "https://localhost:8080/"
        },
        "id": "fekcIYe4GclW",
        "outputId": "848c49e5-3a04-4c64-e230-6642a6c0101e"
      },
      "execution_count": 31,
      "outputs": [
        {
          "output_type": "stream",
          "name": "stdout",
          "text": [
            "         Educational Level                                 Immigration Status  \\\n",
            "0  Taught by other artists  {'Origin': 'Italy-Bologna', 'Destination': 'It...   \n",
            "1  Taught by other artists  {'Origin': 'Italy-Florence', 'Destination': 'I...   \n",
            "\n",
            "  Gender Age               Name  \n",
            "0   Male  45  Agostino Carracci  \n",
            "1   Male  69    Agnolo Bronzino  \n"
          ]
        }
      ]
    },
    {
      "cell_type": "code",
      "source": [
        "len(demographic)"
      ],
      "metadata": {
        "colab": {
          "base_uri": "https://localhost:8080/"
        },
        "id": "foymmrunNoFd",
        "outputId": "6a2c38bc-d2a1-4821-f3e1-98c67001ea71"
      },
      "execution_count": 34,
      "outputs": [
        {
          "output_type": "execute_result",
          "data": {
            "text/plain": [
              "180"
            ]
          },
          "metadata": {},
          "execution_count": 34
        }
      ]
    },
    {
      "cell_type": "code",
      "source": [
        "def summarize_text(text, max_words=200):\n",
        "    prompt = f\"Summarize the following text in {max_words} words while keeping all relevant biographical and demographic details:\\n\\n{text}\"\n",
        "\n",
        "    response = openai.ChatCompletion.create(\n",
        "        model=\"gpt-4-turbo\",\n",
        "        messages=[{\"role\": \"user\", \"content\": prompt}],\n",
        "        temperature=0.5\n",
        "    )\n",
        "\n",
        "    return response[\"choices\"][0][\"message\"][\"content\"]"
      ],
      "metadata": {
        "id": "NS91iCFGPmhG"
      },
      "execution_count": 60,
      "outputs": []
    },
    {
      "cell_type": "code",
      "source": [
        "# demographic = {}\n",
        "\n",
        "for i in tqdm(range(len(target_name))):\n",
        "    if target_name[i] not in demographic.keys():\n",
        "      try:\n",
        "          atrributes, str_json = extract_demographics_few_shot(artist_wikipedia_text_example[i])\n",
        "      except Exception as e:\n",
        "          print(e, \"Too long... Summarize first\")\n",
        "          atrributes, str_json = extract_demographics_few_shot(summarize_text(artist_wikipedia_text_example[i]))\n",
        "      atrributes[\"str\"] = str_json\n",
        "      demographic[target_name[i]] = atrributes"
      ],
      "metadata": {
        "colab": {
          "base_uri": "https://localhost:8080/"
        },
        "id": "oXD2-nEgHdqm",
        "outputId": "46d2d26c-fd71-4600-d161-88f55e41f267"
      },
      "execution_count": 61,
      "outputs": [
        {
          "output_type": "stream",
          "name": "stderr",
          "text": [
            " 44%|████▎     | 1203/2752 [00:22<00:41, 37.25it/s]"
          ]
        },
        {
          "output_type": "stream",
          "name": "stdout",
          "text": [
            "This model's maximum context length is 16385 tokens. However, your messages resulted in 17696 tokens. Please reduce the length of the messages. Too long... Summarize first\n"
          ]
        },
        {
          "output_type": "stream",
          "name": "stderr",
          "text": [
            " 47%|████▋     | 1290/2752 [03:27<41:18,  1.70s/it]"
          ]
        },
        {
          "output_type": "stream",
          "name": "stdout",
          "text": [
            "This model's maximum context length is 16385 tokens. However, your messages resulted in 16558 tokens. Please reduce the length of the messages. Too long... Summarize first\n"
          ]
        },
        {
          "output_type": "stream",
          "name": "stderr",
          "text": [
            " 48%|████▊     | 1316/2752 [04:36<57:25,  2.40s/it]"
          ]
        },
        {
          "output_type": "stream",
          "name": "stdout",
          "text": [
            "This model's maximum context length is 16385 tokens. However, your messages resulted in 17038 tokens. Please reduce the length of the messages. Too long... Summarize first\n"
          ]
        },
        {
          "output_type": "stream",
          "name": "stderr",
          "text": [
            " 60%|██████    | 1657/2752 [15:31<40:40,  2.23s/it]"
          ]
        },
        {
          "output_type": "stream",
          "name": "stdout",
          "text": [
            "JSON decode error. Full response saved\n"
          ]
        },
        {
          "output_type": "stream",
          "name": "stderr",
          "text": [
            " 60%|██████    | 1663/2752 [15:41<37:48,  2.08s/it]"
          ]
        },
        {
          "output_type": "stream",
          "name": "stdout",
          "text": [
            "JSON decode error. Full response saved\n"
          ]
        },
        {
          "output_type": "stream",
          "name": "stderr",
          "text": [
            " 71%|███████   | 1947/2752 [25:21<31:31,  2.35s/it]"
          ]
        },
        {
          "output_type": "stream",
          "name": "stdout",
          "text": [
            "JSON decode error. Full response saved\n"
          ]
        },
        {
          "output_type": "stream",
          "name": "stderr",
          "text": [
            " 77%|███████▋  | 2131/2752 [30:59<21:33,  2.08s/it]"
          ]
        },
        {
          "output_type": "stream",
          "name": "stdout",
          "text": [
            "This model's maximum context length is 16385 tokens. However, your messages resulted in 21944 tokens. Please reduce the length of the messages. Too long... Summarize first\n"
          ]
        },
        {
          "output_type": "stream",
          "name": "stderr",
          "text": [
            " 79%|███████▉  | 2182/2752 [32:52<13:16,  1.40s/it]"
          ]
        },
        {
          "output_type": "stream",
          "name": "stdout",
          "text": [
            "This model's maximum context length is 16385 tokens. However, your messages resulted in 20425 tokens. Please reduce the length of the messages. Too long... Summarize first\n"
          ]
        },
        {
          "output_type": "stream",
          "name": "stderr",
          "text": [
            " 85%|████████▍ | 2327/2752 [37:48<11:28,  1.62s/it]"
          ]
        },
        {
          "output_type": "stream",
          "name": "stdout",
          "text": [
            "This model's maximum context length is 16385 tokens. However, your messages resulted in 23115 tokens. Please reduce the length of the messages. Too long... Summarize first\n"
          ]
        },
        {
          "output_type": "stream",
          "name": "stderr",
          "text": [
            " 92%|█████████▏| 2544/2752 [45:45<08:25,  2.43s/it]"
          ]
        },
        {
          "output_type": "stream",
          "name": "stdout",
          "text": [
            "JSON decode error. Full response saved\n"
          ]
        },
        {
          "output_type": "stream",
          "name": "stderr",
          "text": [
            " 96%|█████████▌| 2648/2752 [49:19<03:39,  2.11s/it]"
          ]
        },
        {
          "output_type": "stream",
          "name": "stdout",
          "text": [
            "This model's maximum context length is 16385 tokens. However, your messages resulted in 16715 tokens. Please reduce the length of the messages. Too long... Summarize first\n"
          ]
        },
        {
          "output_type": "stream",
          "name": "stderr",
          "text": [
            "100%|██████████| 2752/2752 [52:55<00:00,  1.15s/it]\n"
          ]
        }
      ]
    },
    {
      "cell_type": "code",
      "source": [
        "rows = []\n",
        "for name, data in demographic.items():\n",
        "    data[\"Name\"] = name\n",
        "    rows.append(data)\n",
        "\n",
        "df = pd.DataFrame(rows)\n",
        "\n",
        "df.head()"
      ],
      "metadata": {
        "colab": {
          "base_uri": "https://localhost:8080/",
          "height": 206
        },
        "id": "C1aDudNmIG2u",
        "outputId": "426c2dc5-8fe6-44d3-9520-86de9e95aea3"
      },
      "execution_count": 62,
      "outputs": [
        {
          "output_type": "execute_result",
          "data": {
            "text/plain": [
              "  Educational Level                                 Immigration Status  \\\n",
              "0     College level  {'Origin': 'USA-New York City', 'Destination':...   \n",
              "1      Master level  {'Origin': 'USA-Chicago', 'Destination': 'Fran...   \n",
              "2     College level  {'Origin': 'USA-Syracuse', 'Destination': 'USA...   \n",
              "3     College level  {'Origin': 'USA-Port Arthur', 'Destination': '...   \n",
              "4     College level  {'Origin': 'Spain-Turégano', 'Destination': 'U...   \n",
              "\n",
              "   Gender Age                                                str  \\\n",
              "0  Female  82  {\\n  \"Educational Level\": \"College level\",\\n  ...   \n",
              "1  Female  67  {\\n  \"Educational Level\": \"Master level\",\\n  \"...   \n",
              "2    Male  92  {\\n  \"Educational Level\": \"College level\",\\n  ...   \n",
              "3    Male  82  {\\n  \"Educational Level\": \"College level\",\\n  ...   \n",
              "4    Male  97  {\\n  \"Educational Level\": \"College level\",\\n  ...   \n",
              "\n",
              "                  Name  \n",
              "0        betty-parsons  \n",
              "1        joan-mitchell  \n",
              "2     robert-goodnough  \n",
              "3  robert-rauschenberg  \n",
              "4      esteban-vicente  "
            ],
            "text/html": [
              "\n",
              "  <div id=\"df-91fadc2e-9796-4ae2-9f45-d24f7719a86a\" class=\"colab-df-container\">\n",
              "    <div>\n",
              "<style scoped>\n",
              "    .dataframe tbody tr th:only-of-type {\n",
              "        vertical-align: middle;\n",
              "    }\n",
              "\n",
              "    .dataframe tbody tr th {\n",
              "        vertical-align: top;\n",
              "    }\n",
              "\n",
              "    .dataframe thead th {\n",
              "        text-align: right;\n",
              "    }\n",
              "</style>\n",
              "<table border=\"1\" class=\"dataframe\">\n",
              "  <thead>\n",
              "    <tr style=\"text-align: right;\">\n",
              "      <th></th>\n",
              "      <th>Educational Level</th>\n",
              "      <th>Immigration Status</th>\n",
              "      <th>Gender</th>\n",
              "      <th>Age</th>\n",
              "      <th>str</th>\n",
              "      <th>Name</th>\n",
              "    </tr>\n",
              "  </thead>\n",
              "  <tbody>\n",
              "    <tr>\n",
              "      <th>0</th>\n",
              "      <td>College level</td>\n",
              "      <td>{'Origin': 'USA-New York City', 'Destination':...</td>\n",
              "      <td>Female</td>\n",
              "      <td>82</td>\n",
              "      <td>{\\n  \"Educational Level\": \"College level\",\\n  ...</td>\n",
              "      <td>betty-parsons</td>\n",
              "    </tr>\n",
              "    <tr>\n",
              "      <th>1</th>\n",
              "      <td>Master level</td>\n",
              "      <td>{'Origin': 'USA-Chicago', 'Destination': 'Fran...</td>\n",
              "      <td>Female</td>\n",
              "      <td>67</td>\n",
              "      <td>{\\n  \"Educational Level\": \"Master level\",\\n  \"...</td>\n",
              "      <td>joan-mitchell</td>\n",
              "    </tr>\n",
              "    <tr>\n",
              "      <th>2</th>\n",
              "      <td>College level</td>\n",
              "      <td>{'Origin': 'USA-Syracuse', 'Destination': 'USA...</td>\n",
              "      <td>Male</td>\n",
              "      <td>92</td>\n",
              "      <td>{\\n  \"Educational Level\": \"College level\",\\n  ...</td>\n",
              "      <td>robert-goodnough</td>\n",
              "    </tr>\n",
              "    <tr>\n",
              "      <th>3</th>\n",
              "      <td>College level</td>\n",
              "      <td>{'Origin': 'USA-Port Arthur', 'Destination': '...</td>\n",
              "      <td>Male</td>\n",
              "      <td>82</td>\n",
              "      <td>{\\n  \"Educational Level\": \"College level\",\\n  ...</td>\n",
              "      <td>robert-rauschenberg</td>\n",
              "    </tr>\n",
              "    <tr>\n",
              "      <th>4</th>\n",
              "      <td>College level</td>\n",
              "      <td>{'Origin': 'Spain-Turégano', 'Destination': 'U...</td>\n",
              "      <td>Male</td>\n",
              "      <td>97</td>\n",
              "      <td>{\\n  \"Educational Level\": \"College level\",\\n  ...</td>\n",
              "      <td>esteban-vicente</td>\n",
              "    </tr>\n",
              "  </tbody>\n",
              "</table>\n",
              "</div>\n",
              "    <div class=\"colab-df-buttons\">\n",
              "\n",
              "  <div class=\"colab-df-container\">\n",
              "    <button class=\"colab-df-convert\" onclick=\"convertToInteractive('df-91fadc2e-9796-4ae2-9f45-d24f7719a86a')\"\n",
              "            title=\"Convert this dataframe to an interactive table.\"\n",
              "            style=\"display:none;\">\n",
              "\n",
              "  <svg xmlns=\"http://www.w3.org/2000/svg\" height=\"24px\" viewBox=\"0 -960 960 960\">\n",
              "    <path d=\"M120-120v-720h720v720H120Zm60-500h600v-160H180v160Zm220 220h160v-160H400v160Zm0 220h160v-160H400v160ZM180-400h160v-160H180v160Zm440 0h160v-160H620v160ZM180-180h160v-160H180v160Zm440 0h160v-160H620v160Z\"/>\n",
              "  </svg>\n",
              "    </button>\n",
              "\n",
              "  <style>\n",
              "    .colab-df-container {\n",
              "      display:flex;\n",
              "      gap: 12px;\n",
              "    }\n",
              "\n",
              "    .colab-df-convert {\n",
              "      background-color: #E8F0FE;\n",
              "      border: none;\n",
              "      border-radius: 50%;\n",
              "      cursor: pointer;\n",
              "      display: none;\n",
              "      fill: #1967D2;\n",
              "      height: 32px;\n",
              "      padding: 0 0 0 0;\n",
              "      width: 32px;\n",
              "    }\n",
              "\n",
              "    .colab-df-convert:hover {\n",
              "      background-color: #E2EBFA;\n",
              "      box-shadow: 0px 1px 2px rgba(60, 64, 67, 0.3), 0px 1px 3px 1px rgba(60, 64, 67, 0.15);\n",
              "      fill: #174EA6;\n",
              "    }\n",
              "\n",
              "    .colab-df-buttons div {\n",
              "      margin-bottom: 4px;\n",
              "    }\n",
              "\n",
              "    [theme=dark] .colab-df-convert {\n",
              "      background-color: #3B4455;\n",
              "      fill: #D2E3FC;\n",
              "    }\n",
              "\n",
              "    [theme=dark] .colab-df-convert:hover {\n",
              "      background-color: #434B5C;\n",
              "      box-shadow: 0px 1px 3px 1px rgba(0, 0, 0, 0.15);\n",
              "      filter: drop-shadow(0px 1px 2px rgba(0, 0, 0, 0.3));\n",
              "      fill: #FFFFFF;\n",
              "    }\n",
              "  </style>\n",
              "\n",
              "    <script>\n",
              "      const buttonEl =\n",
              "        document.querySelector('#df-91fadc2e-9796-4ae2-9f45-d24f7719a86a button.colab-df-convert');\n",
              "      buttonEl.style.display =\n",
              "        google.colab.kernel.accessAllowed ? 'block' : 'none';\n",
              "\n",
              "      async function convertToInteractive(key) {\n",
              "        const element = document.querySelector('#df-91fadc2e-9796-4ae2-9f45-d24f7719a86a');\n",
              "        const dataTable =\n",
              "          await google.colab.kernel.invokeFunction('convertToInteractive',\n",
              "                                                    [key], {});\n",
              "        if (!dataTable) return;\n",
              "\n",
              "        const docLinkHtml = 'Like what you see? Visit the ' +\n",
              "          '<a target=\"_blank\" href=https://colab.research.google.com/notebooks/data_table.ipynb>data table notebook</a>'\n",
              "          + ' to learn more about interactive tables.';\n",
              "        element.innerHTML = '';\n",
              "        dataTable['output_type'] = 'display_data';\n",
              "        await google.colab.output.renderOutput(dataTable, element);\n",
              "        const docLink = document.createElement('div');\n",
              "        docLink.innerHTML = docLinkHtml;\n",
              "        element.appendChild(docLink);\n",
              "      }\n",
              "    </script>\n",
              "  </div>\n",
              "\n",
              "\n",
              "<div id=\"df-7beb5e24-4055-47db-a647-5887f7b7a61f\">\n",
              "  <button class=\"colab-df-quickchart\" onclick=\"quickchart('df-7beb5e24-4055-47db-a647-5887f7b7a61f')\"\n",
              "            title=\"Suggest charts\"\n",
              "            style=\"display:none;\">\n",
              "\n",
              "<svg xmlns=\"http://www.w3.org/2000/svg\" height=\"24px\"viewBox=\"0 0 24 24\"\n",
              "     width=\"24px\">\n",
              "    <g>\n",
              "        <path d=\"M19 3H5c-1.1 0-2 .9-2 2v14c0 1.1.9 2 2 2h14c1.1 0 2-.9 2-2V5c0-1.1-.9-2-2-2zM9 17H7v-7h2v7zm4 0h-2V7h2v10zm4 0h-2v-4h2v4z\"/>\n",
              "    </g>\n",
              "</svg>\n",
              "  </button>\n",
              "\n",
              "<style>\n",
              "  .colab-df-quickchart {\n",
              "      --bg-color: #E8F0FE;\n",
              "      --fill-color: #1967D2;\n",
              "      --hover-bg-color: #E2EBFA;\n",
              "      --hover-fill-color: #174EA6;\n",
              "      --disabled-fill-color: #AAA;\n",
              "      --disabled-bg-color: #DDD;\n",
              "  }\n",
              "\n",
              "  [theme=dark] .colab-df-quickchart {\n",
              "      --bg-color: #3B4455;\n",
              "      --fill-color: #D2E3FC;\n",
              "      --hover-bg-color: #434B5C;\n",
              "      --hover-fill-color: #FFFFFF;\n",
              "      --disabled-bg-color: #3B4455;\n",
              "      --disabled-fill-color: #666;\n",
              "  }\n",
              "\n",
              "  .colab-df-quickchart {\n",
              "    background-color: var(--bg-color);\n",
              "    border: none;\n",
              "    border-radius: 50%;\n",
              "    cursor: pointer;\n",
              "    display: none;\n",
              "    fill: var(--fill-color);\n",
              "    height: 32px;\n",
              "    padding: 0;\n",
              "    width: 32px;\n",
              "  }\n",
              "\n",
              "  .colab-df-quickchart:hover {\n",
              "    background-color: var(--hover-bg-color);\n",
              "    box-shadow: 0 1px 2px rgba(60, 64, 67, 0.3), 0 1px 3px 1px rgba(60, 64, 67, 0.15);\n",
              "    fill: var(--button-hover-fill-color);\n",
              "  }\n",
              "\n",
              "  .colab-df-quickchart-complete:disabled,\n",
              "  .colab-df-quickchart-complete:disabled:hover {\n",
              "    background-color: var(--disabled-bg-color);\n",
              "    fill: var(--disabled-fill-color);\n",
              "    box-shadow: none;\n",
              "  }\n",
              "\n",
              "  .colab-df-spinner {\n",
              "    border: 2px solid var(--fill-color);\n",
              "    border-color: transparent;\n",
              "    border-bottom-color: var(--fill-color);\n",
              "    animation:\n",
              "      spin 1s steps(1) infinite;\n",
              "  }\n",
              "\n",
              "  @keyframes spin {\n",
              "    0% {\n",
              "      border-color: transparent;\n",
              "      border-bottom-color: var(--fill-color);\n",
              "      border-left-color: var(--fill-color);\n",
              "    }\n",
              "    20% {\n",
              "      border-color: transparent;\n",
              "      border-left-color: var(--fill-color);\n",
              "      border-top-color: var(--fill-color);\n",
              "    }\n",
              "    30% {\n",
              "      border-color: transparent;\n",
              "      border-left-color: var(--fill-color);\n",
              "      border-top-color: var(--fill-color);\n",
              "      border-right-color: var(--fill-color);\n",
              "    }\n",
              "    40% {\n",
              "      border-color: transparent;\n",
              "      border-right-color: var(--fill-color);\n",
              "      border-top-color: var(--fill-color);\n",
              "    }\n",
              "    60% {\n",
              "      border-color: transparent;\n",
              "      border-right-color: var(--fill-color);\n",
              "    }\n",
              "    80% {\n",
              "      border-color: transparent;\n",
              "      border-right-color: var(--fill-color);\n",
              "      border-bottom-color: var(--fill-color);\n",
              "    }\n",
              "    90% {\n",
              "      border-color: transparent;\n",
              "      border-bottom-color: var(--fill-color);\n",
              "    }\n",
              "  }\n",
              "</style>\n",
              "\n",
              "  <script>\n",
              "    async function quickchart(key) {\n",
              "      const quickchartButtonEl =\n",
              "        document.querySelector('#' + key + ' button');\n",
              "      quickchartButtonEl.disabled = true;  // To prevent multiple clicks.\n",
              "      quickchartButtonEl.classList.add('colab-df-spinner');\n",
              "      try {\n",
              "        const charts = await google.colab.kernel.invokeFunction(\n",
              "            'suggestCharts', [key], {});\n",
              "      } catch (error) {\n",
              "        console.error('Error during call to suggestCharts:', error);\n",
              "      }\n",
              "      quickchartButtonEl.classList.remove('colab-df-spinner');\n",
              "      quickchartButtonEl.classList.add('colab-df-quickchart-complete');\n",
              "    }\n",
              "    (() => {\n",
              "      let quickchartButtonEl =\n",
              "        document.querySelector('#df-7beb5e24-4055-47db-a647-5887f7b7a61f button');\n",
              "      quickchartButtonEl.style.display =\n",
              "        google.colab.kernel.accessAllowed ? 'block' : 'none';\n",
              "    })();\n",
              "  </script>\n",
              "</div>\n",
              "\n",
              "    </div>\n",
              "  </div>\n"
            ],
            "application/vnd.google.colaboratory.intrinsic+json": {
              "type": "dataframe",
              "variable_name": "df",
              "summary": "{\n  \"name\": \"df\",\n  \"rows\": 2752,\n  \"fields\": [\n    {\n      \"column\": \"Educational Level\",\n      \"properties\": {\n        \"dtype\": \"category\",\n        \"num_unique_values\": 19,\n        \"samples\": [\n          \"College level\",\n          \"PhD level\",\n          \"Unknown\"\n        ],\n        \"semantic_type\": \"\",\n        \"description\": \"\"\n      }\n    },\n    {\n      \"column\": \"Immigration Status\",\n      \"properties\": {\n        \"dtype\": \"object\",\n        \"semantic_type\": \"\",\n        \"description\": \"\"\n      }\n    },\n    {\n      \"column\": \"Gender\",\n      \"properties\": {\n        \"dtype\": \"category\",\n        \"num_unique_values\": 13,\n        \"samples\": [\n          \"Unidentified\",\n          \"Both male and female\",\n          \"Female\"\n        ],\n        \"semantic_type\": \"\",\n        \"description\": \"\"\n      }\n    },\n    {\n      \"column\": \"Age\",\n      \"properties\": {\n        \"dtype\": \"category\",\n        \"num_unique_values\": 149,\n        \"samples\": [\n          \"46\",\n          \"51\",\n          \"12\"\n        ],\n        \"semantic_type\": \"\",\n        \"description\": \"\"\n      }\n    },\n    {\n      \"column\": \"str\",\n      \"properties\": {\n        \"dtype\": \"string\",\n        \"num_unique_values\": 2734,\n        \"samples\": [\n          \"{\\n  \\\"Educational Level\\\": \\\"Taught by other artists\\\",\\n  \\\"Immigration Status\\\": {\\n    \\\"Origin\\\": \\\"England-Hastings\\\",\\n    \\\"Destination\\\": \\\"England-London\\\",\\n    \\\"Domestic Migration\\\": 1,\\n    \\\"International Migration\\\": 0\\n  },\\n  \\\"Gender\\\": \\\"Female\\\",\\n  \\\"Age\\\": \\\"59\\\"\\n}\",\n          \"{\\n  \\\"Educational Level\\\": \\\"College level\\\",\\n  \\\"Immigration Status\\\": {\\n    \\\"Origin\\\": \\\"England-London\\\",\\n    \\\"Destination\\\": \\\"England-Lake District\\\",\\n    \\\"Domestic Migration\\\": 1,\\n    \\\"International Migration\\\": 0\\n  },\\n  \\\"Gender\\\": \\\"Female\\\",\\n  \\\"Age\\\": \\\"77\\\"\\n}\",\n          \"{\\n  \\\"Educational Level\\\": \\\"College level\\\",\\n  \\\"Immigration Status\\\": {\\n    \\\"Origin\\\": \\\"Denmark-Vejle\\\",\\n    \\\"Destination\\\": \\\"France-Paris\\\",\\n    \\\"Domestic Migration\\\": 0,\\n    \\\"International Migration\\\": 1\\n  },\\n  \\\"Gender\\\": \\\"Transgender woman\\\",\\n  \\\"Age\\\": \\\"48\\\"\\n}\"\n        ],\n        \"semantic_type\": \"\",\n        \"description\": \"\"\n      }\n    },\n    {\n      \"column\": \"Name\",\n      \"properties\": {\n        \"dtype\": \"string\",\n        \"num_unique_values\": 2752,\n        \"samples\": [\n          \"emilie-charmy\",\n          \"turi-simeti\",\n          \"roberto-sambonet\"\n        ],\n        \"semantic_type\": \"\",\n        \"description\": \"\"\n      }\n    }\n  ]\n}"
            }
          },
          "metadata": {},
          "execution_count": 62
        }
      ]
    },
    {
      "cell_type": "code",
      "source": [
        "df.to_csv('/content/drive/My Drive/artist_demographic_wikipedia.csv')"
      ],
      "metadata": {
        "id": "iavpzBdXkjrK"
      },
      "execution_count": 63,
      "outputs": []
    },
    {
      "cell_type": "code",
      "source": [
        "df[pd.isna(df[\"Educational Level\"]) == True][\"Name\"]"
      ],
      "metadata": {
        "colab": {
          "base_uri": "https://localhost:8080/",
          "height": 774
        },
        "id": "7giOfRPrk6nY",
        "outputId": "4009e293-89c9-493b-d4ce-f8de4b0897e1"
      },
      "execution_count": 73,
      "outputs": [
        {
          "output_type": "execute_result",
          "data": {
            "text/plain": [
              "55         moshe-kupferman\n",
              "64          john-mccracken\n",
              "89      alexander-liberman\n",
              "157         thomas-downing\n",
              "178              matsutani\n",
              "187          ian-davenport\n",
              "250           jean-le-moal\n",
              "451         daniel-richter\n",
              "469                  takis\n",
              "486            turi-simeti\n",
              "503          leo-villareal\n",
              "761            john-miller\n",
              "804                phase-2\n",
              "960          john-o-connor\n",
              "1402          arthur-segal\n",
              "1656        victor-pasmore\n",
              "1662       jimenez-deredia\n",
              "1733         aaron-douglas\n",
              "1946       richard-lindner\n",
              "2457        giovanni-costa\n",
              "2526            james-ward\n",
              "2543       francesco-hayez\n",
              "Name: Name, dtype: object"
            ],
            "text/html": [
              "<div>\n",
              "<style scoped>\n",
              "    .dataframe tbody tr th:only-of-type {\n",
              "        vertical-align: middle;\n",
              "    }\n",
              "\n",
              "    .dataframe tbody tr th {\n",
              "        vertical-align: top;\n",
              "    }\n",
              "\n",
              "    .dataframe thead th {\n",
              "        text-align: right;\n",
              "    }\n",
              "</style>\n",
              "<table border=\"1\" class=\"dataframe\">\n",
              "  <thead>\n",
              "    <tr style=\"text-align: right;\">\n",
              "      <th></th>\n",
              "      <th>Name</th>\n",
              "    </tr>\n",
              "  </thead>\n",
              "  <tbody>\n",
              "    <tr>\n",
              "      <th>55</th>\n",
              "      <td>moshe-kupferman</td>\n",
              "    </tr>\n",
              "    <tr>\n",
              "      <th>64</th>\n",
              "      <td>john-mccracken</td>\n",
              "    </tr>\n",
              "    <tr>\n",
              "      <th>89</th>\n",
              "      <td>alexander-liberman</td>\n",
              "    </tr>\n",
              "    <tr>\n",
              "      <th>157</th>\n",
              "      <td>thomas-downing</td>\n",
              "    </tr>\n",
              "    <tr>\n",
              "      <th>178</th>\n",
              "      <td>matsutani</td>\n",
              "    </tr>\n",
              "    <tr>\n",
              "      <th>187</th>\n",
              "      <td>ian-davenport</td>\n",
              "    </tr>\n",
              "    <tr>\n",
              "      <th>250</th>\n",
              "      <td>jean-le-moal</td>\n",
              "    </tr>\n",
              "    <tr>\n",
              "      <th>451</th>\n",
              "      <td>daniel-richter</td>\n",
              "    </tr>\n",
              "    <tr>\n",
              "      <th>469</th>\n",
              "      <td>takis</td>\n",
              "    </tr>\n",
              "    <tr>\n",
              "      <th>486</th>\n",
              "      <td>turi-simeti</td>\n",
              "    </tr>\n",
              "    <tr>\n",
              "      <th>503</th>\n",
              "      <td>leo-villareal</td>\n",
              "    </tr>\n",
              "    <tr>\n",
              "      <th>761</th>\n",
              "      <td>john-miller</td>\n",
              "    </tr>\n",
              "    <tr>\n",
              "      <th>804</th>\n",
              "      <td>phase-2</td>\n",
              "    </tr>\n",
              "    <tr>\n",
              "      <th>960</th>\n",
              "      <td>john-o-connor</td>\n",
              "    </tr>\n",
              "    <tr>\n",
              "      <th>1402</th>\n",
              "      <td>arthur-segal</td>\n",
              "    </tr>\n",
              "    <tr>\n",
              "      <th>1656</th>\n",
              "      <td>victor-pasmore</td>\n",
              "    </tr>\n",
              "    <tr>\n",
              "      <th>1662</th>\n",
              "      <td>jimenez-deredia</td>\n",
              "    </tr>\n",
              "    <tr>\n",
              "      <th>1733</th>\n",
              "      <td>aaron-douglas</td>\n",
              "    </tr>\n",
              "    <tr>\n",
              "      <th>1946</th>\n",
              "      <td>richard-lindner</td>\n",
              "    </tr>\n",
              "    <tr>\n",
              "      <th>2457</th>\n",
              "      <td>giovanni-costa</td>\n",
              "    </tr>\n",
              "    <tr>\n",
              "      <th>2526</th>\n",
              "      <td>james-ward</td>\n",
              "    </tr>\n",
              "    <tr>\n",
              "      <th>2543</th>\n",
              "      <td>francesco-hayez</td>\n",
              "    </tr>\n",
              "  </tbody>\n",
              "</table>\n",
              "</div><br><label><b>dtype:</b> object</label>"
            ]
          },
          "metadata": {},
          "execution_count": 73
        }
      ]
    }
  ]
}