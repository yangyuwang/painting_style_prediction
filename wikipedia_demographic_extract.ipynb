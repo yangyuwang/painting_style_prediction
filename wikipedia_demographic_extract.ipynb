{
  "nbformat": 4,
  "nbformat_minor": 0,
  "metadata": {
    "colab": {
      "provenance": [],
      "toc_visible": true,
      "machine_shape": "hm",
      "gpuType": "A100",
      "authorship_tag": "ABX9TyOj4NCHEnAWJL1ir8OmaUle",
      "include_colab_link": true
    },
    "kernelspec": {
      "name": "python3",
      "display_name": "Python 3"
    },
    "language_info": {
      "name": "python"
    },
    "accelerator": "GPU"
  },
  "cells": [
    {
      "cell_type": "markdown",
      "metadata": {
        "id": "view-in-github",
        "colab_type": "text"
      },
      "source": [
        "<a href=\"https://colab.research.google.com/github/yangyuwang/painting_style_prediction/blob/main/wikipedia_demographic_extract.ipynb\" target=\"_parent\"><img src=\"https://colab.research.google.com/assets/colab-badge.svg\" alt=\"Open In Colab\"/></a>"
      ]
    },
    {
      "cell_type": "markdown",
      "source": [
        "## Load wikipedia"
      ],
      "metadata": {
        "id": "hsTYqYmZDk9b"
      }
    },
    {
      "cell_type": "code",
      "execution_count": 1,
      "metadata": {
        "colab": {
          "base_uri": "https://localhost:8080/"
        },
        "id": "WEWkdhClDaea",
        "outputId": "871e023f-8f4a-4eff-a9da-55612d68cfa5"
      },
      "outputs": [
        {
          "output_type": "stream",
          "name": "stdout",
          "text": [
            "Drive already mounted at /content/drive/; to attempt to forcibly remount, call drive.mount(\"/content/drive/\", force_remount=True).\n"
          ]
        }
      ],
      "source": [
        "from google.colab import drive\n",
        "drive.mount('/content/drive/')\n"
      ]
    },
    {
      "cell_type": "code",
      "source": [
        "import os\n",
        "import re\n",
        "from tqdm import tqdm\n",
        "\n",
        "artist_wikipedia_text_example = []\n",
        "\n",
        "path = '/content/drive/My Drive/artist_wikipedia_content/'\n",
        "\n",
        "target_name = [re.sub(r\".txt\", \"\", target) for target in os.listdir(path)]\n",
        "\n",
        "for file in tqdm(os.listdir(path)):\n",
        "  with open(path + file, \"r\") as f:\n",
        "    artist_wikipedia_text_example.append(re.sub(\"\\n\", \"\", f.read()))"
      ],
      "metadata": {
        "colab": {
          "base_uri": "https://localhost:8080/"
        },
        "id": "vcFhHZb6DqYn",
        "outputId": "8a1fedeb-e9e0-4b6e-f905-1f2ae319e64a"
      },
      "execution_count": 5,
      "outputs": [
        {
          "output_type": "stream",
          "name": "stderr",
          "text": [
            "100%|██████████| 2752/2752 [00:04<00:00, 569.52it/s]\n"
          ]
        }
      ]
    },
    {
      "cell_type": "markdown",
      "source": [
        "# OPENAI settings"
      ],
      "metadata": {
        "id": "z1aq0bXKF-aC"
      }
    },
    {
      "cell_type": "code",
      "source": [
        "pip install openai==0.28"
      ],
      "metadata": {
        "colab": {
          "base_uri": "https://localhost:8080/"
        },
        "id": "JYKaEcn5G3bN",
        "outputId": "19d484a0-2062-4e79-bbd4-c5d2b1b2bad9"
      },
      "execution_count": 6,
      "outputs": [
        {
          "output_type": "stream",
          "name": "stdout",
          "text": [
            "Requirement already satisfied: openai==0.28 in /usr/local/lib/python3.11/dist-packages (0.28.0)\n",
            "Requirement already satisfied: requests>=2.20 in /usr/local/lib/python3.11/dist-packages (from openai==0.28) (2.32.3)\n",
            "Requirement already satisfied: tqdm in /usr/local/lib/python3.11/dist-packages (from openai==0.28) (4.67.1)\n",
            "Requirement already satisfied: aiohttp in /usr/local/lib/python3.11/dist-packages (from openai==0.28) (3.11.12)\n",
            "Requirement already satisfied: charset-normalizer<4,>=2 in /usr/local/lib/python3.11/dist-packages (from requests>=2.20->openai==0.28) (3.4.1)\n",
            "Requirement already satisfied: idna<4,>=2.5 in /usr/local/lib/python3.11/dist-packages (from requests>=2.20->openai==0.28) (3.10)\n",
            "Requirement already satisfied: urllib3<3,>=1.21.1 in /usr/local/lib/python3.11/dist-packages (from requests>=2.20->openai==0.28) (2.3.0)\n",
            "Requirement already satisfied: certifi>=2017.4.17 in /usr/local/lib/python3.11/dist-packages (from requests>=2.20->openai==0.28) (2025.1.31)\n",
            "Requirement already satisfied: aiohappyeyeballs>=2.3.0 in /usr/local/lib/python3.11/dist-packages (from aiohttp->openai==0.28) (2.4.6)\n",
            "Requirement already satisfied: aiosignal>=1.1.2 in /usr/local/lib/python3.11/dist-packages (from aiohttp->openai==0.28) (1.3.2)\n",
            "Requirement already satisfied: attrs>=17.3.0 in /usr/local/lib/python3.11/dist-packages (from aiohttp->openai==0.28) (25.1.0)\n",
            "Requirement already satisfied: frozenlist>=1.1.1 in /usr/local/lib/python3.11/dist-packages (from aiohttp->openai==0.28) (1.5.0)\n",
            "Requirement already satisfied: multidict<7.0,>=4.5 in /usr/local/lib/python3.11/dist-packages (from aiohttp->openai==0.28) (6.1.0)\n",
            "Requirement already satisfied: propcache>=0.2.0 in /usr/local/lib/python3.11/dist-packages (from aiohttp->openai==0.28) (0.2.1)\n",
            "Requirement already satisfied: yarl<2.0,>=1.17.0 in /usr/local/lib/python3.11/dist-packages (from aiohttp->openai==0.28) (1.18.3)\n"
          ]
        }
      ]
    },
    {
      "cell_type": "code",
      "source": [
        "import getpass\n",
        "OPENAI_API_KEY = getpass.getpass()"
      ],
      "metadata": {
        "colab": {
          "base_uri": "https://localhost:8080/"
        },
        "id": "_ZEoXySpGMWh",
        "outputId": "bd79105a-0c8b-4a62-b784-3902bdc1914a"
      },
      "execution_count": 7,
      "outputs": [
        {
          "name": "stdout",
          "output_type": "stream",
          "text": [
            "··········\n"
          ]
        }
      ]
    },
    {
      "cell_type": "markdown",
      "source": [
        "# Extraction"
      ],
      "metadata": {
        "id": "OUYoIlx2GCq_"
      }
    },
    {
      "cell_type": "code",
      "source": [
        "import openai\n",
        "import json\n",
        "import pandas as pd\n",
        "\n",
        "# Set your OpenAI API key\n",
        "openai.api_key = OPENAI_API_KEY\n",
        "\n",
        "def extract_demographics_few_shot(text):\n",
        "    # Few-shot example using Agostino Carracci's information.\n",
        "    few_shot_example = \"\"\"\n",
        "                        Example:\n",
        "                        Text: \"Agostino Carracci (or Caracci; 16 August 1557 – 22 March 1602) was an Italian painter born in Bologna. Initially, he trained as a goldsmith and then studied painting with Prospero Fontana and Bartolomeo Passarotti. He traveled to Venice to train as an engraver under Cornelis Cort.\"\n",
        "                        Chain-of-thought:\n",
        "                        1. Educational Level: Agostino was taught by established artists (Prospero Fontana and Bartolomeo Passarotti), so his educational level is \"Taught by other artists\".\n",
        "                        2. Immigration Status: He was born in Bologna (Italy-Bologna) and later traveled to Venice (Italy-Venice). This migration is domestic, so \"Domestic Migration\" is 1 and \"International Migration\" is 0.\n",
        "                        3. Gender: The text indicates he is male.\n",
        "                        4. Age: He was born in 1557 and died in 1602, giving him an approximate age of 45 years.\n",
        "                        Final JSON Output:\n",
        "                        {\n",
        "                          \"Educational Level\": \"Taught by other artists\",\n",
        "                          \"Immigration Status\": {\n",
        "                            \"Origin\": \"Italy-Bologna\",\n",
        "                            \"Destination\": \"Italy-Venice\",\n",
        "                            \"Domestic Migration\": 1,\n",
        "                            \"International Migration\": 0\n",
        "                          },\n",
        "                          \"Gender\": \"Male\",\n",
        "                          \"Age\": \"45\"\n",
        "                        }\n",
        "                        ---\n",
        "                        \"\"\"\n",
        "\n",
        "    # Build the full prompt including the few-shot example.\n",
        "    prompt = f\"\"\"\n",
        "              You are an expert text analyst. Below is a few-shot example showing how to extract demographic attributes from a Wikipedia-style text about an artist using a chain-of-thought approach.\n",
        "\n",
        "              {few_shot_example}\n",
        "\n",
        "              Now, analyze the following text and extract the following demographic attributes:\n",
        "              - Educational Level: Choose one from [\"No formal education\", \"Elementary level\", \"Middle school level\", \"High school level\", \"College level\", \"Master level\", \"PhD level\", \"Taught by other artists\"].\n",
        "              - Immigration Status: Provide a dictionary with:\n",
        "                  - \"Origin\" (in \"Country-City\" format),\n",
        "                  - \"Destination\" (in \"Country-City\" format),\n",
        "                  - \"Domestic Migration\" (1 if the migration is within the same country, 0 otherwise),\n",
        "                  - \"International Migration\" (1 if the migration is between different countries, 0 otherwise).\n",
        "              - Gender\n",
        "              - Age: Calculate approximate age if birth and death or other relevant dates are given.\n",
        "\n",
        "              Please follow these instructions:\n",
        "              1. First, provide your chain-of-thought reasoning step-by-step.\n",
        "              2. Then, based on your reasoning, output a final answer in JSON format with the keys \"Educational Level\", \"Immigration Status\", \"Gender\", and \"Age\".\n",
        "              3. Output only a valid JSON object (without any additional text, code fences, or markdown) as the final answer.\n",
        "\n",
        "              Text:\n",
        "              \\\"\\\"\\\"{text}\\\"\\\"\\\"\n",
        "\n",
        "              Answer:\n",
        "              \"\"\"\n",
        "    # Call the GPT-3.5 model\n",
        "    response = openai.ChatCompletion.create(\n",
        "        model=\"gpt-3.5-turbo\",\n",
        "        messages=[\n",
        "            {\"role\": \"system\", \"content\": \"You are a helpful assistant that provides detailed chain-of-thought reasoning.\"},\n",
        "            {\"role\": \"user\", \"content\": prompt}\n",
        "        ],\n",
        "        temperature=0.0\n",
        "    )\n",
        "\n",
        "    # Get the content of the reply\n",
        "    answer = response[\"choices\"][0][\"message\"][\"content\"]\n",
        "\n",
        "    json_match = re.search(r\"```json\\s*(\\{.*\\})\\s*```\", answer, re.DOTALL)\n",
        "\n",
        "    if json_match:\n",
        "        json_str = json_match.group(1)\n",
        "    else:\n",
        "        # Fallback: try to extract from the first occurrence of '{'\n",
        "        json_start = answer.find('{')\n",
        "        json_str = answer[json_start:]\n",
        "\n",
        "    try:\n",
        "        result = json.loads(json_str)\n",
        "        return result, json_str\n",
        "    except json.JSONDecodeError:\n",
        "        print(\"JSON decode error. Full response saved\")\n",
        "        return {}, json_str\n",
        "    else:\n",
        "        print(\"No JSON found in the response. Full response saved\")\n",
        "        return {}, json_str\n"
      ],
      "metadata": {
        "id": "_7dpUgo2GCES"
      },
      "execution_count": 29,
      "outputs": []
    },
    {
      "cell_type": "code",
      "source": [
        "# Example\n",
        "\n",
        "# Wikipedia texts for Agostino Carracci and Agnolo Bronzino\n",
        "text_carracci = \"\"\"\n",
        "Agostino Carracci (or Caracci; Italian pronunciation: [aɡoˈstiːno karˈrattʃi]; 16 August 1557 – 22 March 1602) was an Italian painter, printmaker, tapestry designer, and art teacher. He was, together with his brother, Annibale Carracci, and cousin, Ludovico Carracci, one of the founders of the Accademia degli Incamminati (Academy of the Progressives) in Bologna. Intended to devise alternatives to the Mannerist style favored in the preceding decades, this teaching academy helped propel painters of the School of Bologna to prominence.\n",
        "\n",
        "Agostino Carracci was born in Bologna as the son of a tailor. He was the elder brother of Annibale Carracci and the cousin of Ludovico Carracci. He initially trained as a goldsmith. He later studied painting, first with Prospero Fontana, who had been Lodovico's master, and later with Bartolomeo Passarotti. He traveled to Parma to study the works of Correggio. Accompanied by his brother Annibale, he spent a long time in Venice, where he trained as an engraver under the renowned Cornelis Cort.\n",
        "\"\"\"\n",
        "\n",
        "text_bronzino = \"\"\"\n",
        "Agnolo di Cosimo (Italian: [ˈaɲɲolo di ˈkɔːzimo]; 17 November 1503 – 23 November 1572), usually known as Bronzino or Agnolo Bronzino, was an Italian Mannerist painter from Florence. His sobriquet, Bronzino, may refer to his relatively dark skin or reddish hair.\n",
        "He lived all his life in Florence, and from his late 30s was kept busy as the court painter of Cosimo I de' Medici, Grand Duke of Tuscany. He was mainly a portraitist, but also painted many religious subjects and a few allegorical subjects. He trained with Pontormo, the leading Florentine painter of the first generation of Mannerism, and his style was greatly influenced by him. He was apprenticed at 14 under Pontormo and later studied with Raffaellino del Garbo.\n",
        "\"\"\"\n",
        "\n",
        "# Process each text to extract demographics using the few-shot approach\n",
        "results = {}\n",
        "results[\"Agostino Carracci\"], str_1 = extract_demographics_few_shot(text_carracci)\n",
        "results[\"Agnolo Bronzino\"], str_2 = extract_demographics_few_shot(text_bronzino)\n",
        "\n",
        "# Convert the results into a pandas DataFrame\n",
        "rows = []\n",
        "for name, data in results.items():\n",
        "    data[\"Name\"] = name\n",
        "    rows.append(data)\n",
        "df = pd.DataFrame(rows)\n",
        "\n",
        "# Display the DataFrame\n",
        "print(df)"
      ],
      "metadata": {
        "colab": {
          "base_uri": "https://localhost:8080/"
        },
        "id": "fekcIYe4GclW",
        "outputId": "848c49e5-3a04-4c64-e230-6642a6c0101e"
      },
      "execution_count": 31,
      "outputs": [
        {
          "output_type": "stream",
          "name": "stdout",
          "text": [
            "         Educational Level                                 Immigration Status  \\\n",
            "0  Taught by other artists  {'Origin': 'Italy-Bologna', 'Destination': 'It...   \n",
            "1  Taught by other artists  {'Origin': 'Italy-Florence', 'Destination': 'I...   \n",
            "\n",
            "  Gender Age               Name  \n",
            "0   Male  45  Agostino Carracci  \n",
            "1   Male  69    Agnolo Bronzino  \n"
          ]
        }
      ]
    },
    {
      "cell_type": "code",
      "source": [
        "demographic = {}\n",
        "\n",
        "for i in tqdm(range(len(target_name))):\n",
        "    atrributes, str_json = extract_demographics_few_shot(artist_wikipedia_text_example[i])\n",
        "    atrributes[\"str\"] = str_json\n",
        "    demographic[target_name[i]] = atrributes"
      ],
      "metadata": {
        "colab": {
          "base_uri": "https://localhost:8080/"
        },
        "id": "oXD2-nEgHdqm",
        "outputId": "0a6a7ae5-d79d-4a93-ae7c-06b32ebb8cab"
      },
      "execution_count": null,
      "outputs": [
        {
          "output_type": "stream",
          "name": "stderr",
          "text": [
            "  2%|▏         | 56/2752 [01:42<1:43:19,  2.30s/it]"
          ]
        },
        {
          "output_type": "stream",
          "name": "stdout",
          "text": [
            "JSON decode error. Full response saved\n"
          ]
        },
        {
          "output_type": "stream",
          "name": "stderr",
          "text": [
            "  3%|▎         | 90/2752 [02:34<1:27:13,  1.97s/it]"
          ]
        },
        {
          "output_type": "stream",
          "name": "stdout",
          "text": [
            "JSON decode error. Full response saved\n"
          ]
        },
        {
          "output_type": "stream",
          "name": "stderr",
          "text": [
            "  5%|▍         | 125/2752 [03:47<1:33:09,  2.13s/it]"
          ]
        }
      ]
    },
    {
      "cell_type": "code",
      "source": [
        "rows = []\n",
        "for name, data in demographic.items():\n",
        "    data[\"Name\"] = name\n",
        "    rows.append(data)\n",
        "\n",
        "df = pd.DataFrame(rows)\n",
        "\n",
        "print(df)"
      ],
      "metadata": {
        "id": "C1aDudNmIG2u"
      },
      "execution_count": null,
      "outputs": []
    }
  ]
}